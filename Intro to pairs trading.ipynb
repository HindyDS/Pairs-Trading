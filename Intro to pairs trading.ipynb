{
 "cells": [
  {
   "cell_type": "code",
   "execution_count": null,
   "metadata": {},
   "outputs": [],
   "source": [
    "import numpy as np\n",
    "import pandas as pd\n",
    "\n",
    "import statsmodels\n",
    "import statsmodels.api as sm\n",
    "from statsmodels.tsa.stattools import coint\n",
    "# just set the seed for the random number generator\n",
    "np.random.seed(107)\n",
    "\n",
    "import matplotlib.pyplot as plt"
   ]
  },
  {
   "cell_type": "code",
   "execution_count": null,
   "metadata": {},
   "outputs": [],
   "source": [
    "X_returns = np.random.normal(0, 1, 100)\n",
    "X = pd.Series(np.cumsum(X_returns), name='X') + 50\n",
    "X.plot();"
   ]
  },
  {
   "cell_type": "code",
   "execution_count": null,
   "metadata": {},
   "outputs": [],
   "source": [
    "some_noise = np.random.normal(0, 1, 100)\n",
    "Y = X + 5 + some_noise\n",
    "Y.name = 'Y'\n",
    "pd.concat([X, Y], axis=1).plot();"
   ]
  },
  {
   "cell_type": "code",
   "execution_count": null,
   "metadata": {},
   "outputs": [],
   "source": [
    "(Y - X).plot() # plot the spread\n",
    "plt.axhline((Y - X).mean(), color='red', linestyle='--') # Add the mean\n",
    "plt.xlabel('Time')\n",
    "plt.legend(['Price Spread', 'Mean']);"
   ]
  },
  {
   "cell_type": "code",
   "execution_count": null,
   "metadata": {},
   "outputs": [],
   "source": [
    "coint(X, some_noise) # p value is low enough then we can reject the null hypothesis that the two series are cointegrated"
   ]
  },
  {
   "cell_type": "code",
   "execution_count": null,
   "metadata": {},
   "outputs": [],
   "source": [
    "# compute the p-value of the conintegration test\n",
    "# will inform us as to whether the spread between the 2 timeseries is stationary\n",
    "# around its mean\n",
    "score, pvalue, _ = coint(X,Y)\n",
    "if pvalue < 0.05:\n",
    "    print('Likely conintegrated.')\n",
    "else:\n",
    "    print('Likely not conintegrated.')"
   ]
  },
  {
   "cell_type": "code",
   "execution_count": null,
   "metadata": {},
   "outputs": [],
   "source": [
    "X.corr(Y)"
   ]
  },
  {
   "cell_type": "code",
   "execution_count": null,
   "metadata": {},
   "outputs": [],
   "source": [
    "# Correlation withou cointegration\n",
    "X_returns = np.random.normal(1, 1, 100)\n",
    "Y_returns = np.random.normal(2, 1, 100)\n",
    "\n",
    "X_diverging = pd.Series(np.cumsum(X_returns), name='X')\n",
    "Y_diverging = pd.Series(np.cumsum(Y_returns), name='X')\n",
    "\n",
    "pd.concat([X_diverging, Y_diverging], axis=1).plot();"
   ]
  },
  {
   "cell_type": "code",
   "execution_count": null,
   "metadata": {},
   "outputs": [],
   "source": [
    "print('Correlation: ' + str(X_diverging.corr(Y_diverging)))\n",
    "score, pvalue, _ = coint(X_diverging, Y_diverging)\n",
    "print('Cointegration test p-value: ' + str(pvalue))"
   ]
  },
  {
   "cell_type": "code",
   "execution_count": null,
   "metadata": {},
   "outputs": [],
   "source": [
    "# Cointegration Without Correlation\n",
    "Y2 = pd.Series(np.random.normal(0, 1, 1000), name='Y2') + 20\n",
    "Y3 = Y2.copy()"
   ]
  },
  {
   "cell_type": "code",
   "execution_count": null,
   "metadata": {},
   "outputs": [],
   "source": [
    "# Y2 = Y2 + 10\n",
    "Y3[0:100] = 30 \n",
    "Y3[100:200] = 10 \n",
    "Y3[200:300] = 30\n",
    "Y3[300:400] = 10 \n",
    "Y3[400:500] = 30 \n",
    "Y3[500:600] = 10 \n",
    "Y3[600:700] = 30 \n",
    "Y3[700:800] = 10 \n",
    "Y3[800:900] = 30 \n",
    "Y3[900:1000] = 10 "
   ]
  },
  {
   "cell_type": "code",
   "execution_count": null,
   "metadata": {},
   "outputs": [],
   "source": [
    "Y2.plot()\n",
    "Y3.plot()\n",
    "plt.ylim([0, 40]);"
   ]
  },
  {
   "cell_type": "code",
   "execution_count": null,
   "metadata": {},
   "outputs": [],
   "source": [
    "# correlation is nearly zero\n",
    "print('Correlation: ' + str(Y2.corr(Y3)))\n",
    "score, pvalue, _ = coint(Y2, Y3)\n",
    "print('Cointegration test p-value: ' + str(pvalue))"
   ]
  },
  {
   "cell_type": "code",
   "execution_count": null,
   "metadata": {},
   "outputs": [],
   "source": [
    "tech = pd.read_csv('tech.csv')\n",
    "tech = tech['Symbol'].to_list()"
   ]
  },
  {
   "cell_type": "code",
   "execution_count": null,
   "metadata": {},
   "outputs": [],
   "source": [
    "long_S1 = np.where((zscore(ratio) > 2) & (zscore(ratio) < 3), S2, np.where(zscore(ratio) > 3, S2, np.nan))\n",
    "long_S2 = np.where((zscore(ratio) < -2) & (zscore(ratio) > -3), S1, np.where(zscore(ratio) < -3, S1, np.nan))\n",
    "short_S2 = np.where((zscore(ratio) > 2) & (zscore(ratio) < 3), S1, np.where(zscore(ratio) > 3, S1, np.nan))\n",
    "short_S1 = np.where((zscore(ratio) < -2) & (zscore(ratio) > -3), S2, np.where(zscore(ratio) < -3, S2, np.nan))\n",
    "exit_S1 = np.where(((zscore(ratio) > 0) & (zscore(ratio) < 1/20 ) | (zscore(ratio) < 0) & (zscore(ratio) > -1/20)) , S1, np.nan)\n",
    "exit_S2 = np.where(((zscore(ratio) > 0) & (zscore(ratio) < 1/20 ) | (zscore(ratio) < 0) & (zscore(ratio) > -1/20)) , S2, np.nan)\n",
    "\n",
    "plt.figure(figsize=(15, 9))\n",
    "S1.plot()\n",
    "S2.plot()\n",
    "plt.scatter(zscore(ratio).index, short_S2, color='purple', marker='^')\n",
    "plt.scatter(zscore(ratio).index, short_S1, color='purple', marker='^')\n",
    "plt.scatter(zscore(ratio).index, long_S1, color='green', marker='^')\n",
    "plt.scatter(zscore(ratio).index, long_S2, color='green', marker='^')\n",
    "plt.scatter(zscore(ratio).index, exit_S1, color='red', marker='v')\n",
    "plt.scatter(zscore(ratio).index, exit_S2, color='red', marker='v')\n",
    "\n",
    "plt.plot(zscore(ratio).index, zscore(ratio))\n",
    "plt.axhline(0, color='black')\n",
    "plt.axhline(2, color='red', linestyle='--', alpha=1)\n",
    "plt.axhline(-2, color='green', linestyle='--', alpha=1)\n",
    "plt.axhline(3, color='red', alpha=1)\n",
    "plt.axhline(-3, color='green', alpha=1)"
   ]
  },
  {
   "cell_type": "code",
   "execution_count": null,
   "metadata": {},
   "outputs": [],
   "source": [
    "z.plot()\n",
    "z_mean.plot()\n",
    "z_std.plot()"
   ]
  },
  {
   "cell_type": "code",
   "execution_count": null,
   "metadata": {},
   "outputs": [],
   "source": [
    "S1.plot()\n",
    "(hedgeRatio * S2).plot()\n",
    "plt.scatter(S1.index, longs_S1, color='green', marker='^')\n",
    "plt.scatter(S1.index, shorts_S1, color='red', marker='v')\n",
    "plt.scatter(S2.index, hedgeRatio * longs_S2, color='green', marker='^')\n",
    "plt.scatter(S2.index, hedgeRatio * shorts_S2, color='red', marker='v')"
   ]
  },
  {
   "cell_type": "code",
   "execution_count": null,
   "metadata": {},
   "outputs": [],
   "source": [
    "# correlation is nearly zero\n",
    "print('Correlation: ' + str(S1.corr(S2)))\n",
    "score, pvalue, _ = coint(S1, S2)\n",
    "print('Cointegration test p-value: ' + str(pvalue))"
   ]
  },
  {
   "cell_type": "code",
   "execution_count": null,
   "metadata": {},
   "outputs": [],
   "source": [
    "results = sm.OLS(S2, S1).fit()\n",
    "S1 = S1['ASTI']\n",
    "b = results.params['ASTI']\n",
    "\n",
    "spread = S2 - b * S1\n",
    "spread.plot()\n",
    "plt.axhline(spread.mean(), color='black')\n",
    "plt.legend(['Spread']);"
   ]
  },
  {
   "cell_type": "code",
   "execution_count": null,
   "metadata": {},
   "outputs": [],
   "source": [
    "ratio = S1/S2\n",
    "ratio.plot()\n",
    "plt.axhline(ratio.mean(), color='black')\n",
    "plt.legend(['Price Ratio']);"
   ]
  },
  {
   "cell_type": "code",
   "execution_count": null,
   "metadata": {},
   "outputs": [],
   "source": []
  },
  {
   "cell_type": "code",
   "execution_count": null,
   "metadata": {},
   "outputs": [],
   "source": []
  },
  {
   "cell_type": "code",
   "execution_count": null,
   "metadata": {},
   "outputs": [],
   "source": []
  },
  {
   "cell_type": "code",
   "execution_count": null,
   "metadata": {},
   "outputs": [],
   "source": []
  },
  {
   "cell_type": "code",
   "execution_count": null,
   "metadata": {},
   "outputs": [],
   "source": []
  },
  {
   "cell_type": "code",
   "execution_count": null,
   "metadata": {},
   "outputs": [],
   "source": []
  },
  {
   "cell_type": "code",
   "execution_count": null,
   "metadata": {},
   "outputs": [],
   "source": []
  },
  {
   "cell_type": "code",
   "execution_count": null,
   "metadata": {},
   "outputs": [],
   "source": []
  },
  {
   "cell_type": "code",
   "execution_count": null,
   "metadata": {},
   "outputs": [],
   "source": []
  },
  {
   "cell_type": "code",
   "execution_count": null,
   "metadata": {},
   "outputs": [],
   "source": []
  },
  {
   "cell_type": "code",
   "execution_count": null,
   "metadata": {},
   "outputs": [],
   "source": []
  },
  {
   "cell_type": "code",
   "execution_count": null,
   "metadata": {},
   "outputs": [],
   "source": []
  }
 ],
 "metadata": {
  "kernelspec": {
   "display_name": "Python 3",
   "language": "python",
   "name": "python3"
  },
  "language_info": {
   "codemirror_mode": {
    "name": "ipython",
    "version": 3
   },
   "file_extension": ".py",
   "mimetype": "text/x-python",
   "name": "python",
   "nbconvert_exporter": "python",
   "pygments_lexer": "ipython3",
   "version": "3.7.6"
  }
 },
 "nbformat": 4,
 "nbformat_minor": 4
}
